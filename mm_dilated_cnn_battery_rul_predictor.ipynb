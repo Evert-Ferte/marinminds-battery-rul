{
 "cells": [
  {
   "cell_type": "markdown",
   "metadata": {},
   "source": [
    "# Marinminds battery remaining useful life (RUL) predictor"
   ]
  },
  {
   "cell_type": "markdown",
   "metadata": {},
   "source": [
    "### Step -1: Import all the packages we need"
   ]
  },
  {
   "cell_type": "code",
   "execution_count": 1,
   "metadata": {},
   "outputs": [],
   "source": [
    "import tensorflow as tf\n",
    "import pandas as pd\n",
    "import numpy as np\n",
    "from sklearn.preprocessing import StandardScaler\n",
    "import matplotlib.pyplot as plt\n",
    "import os\n",
    "from sys import platform"
   ]
  },
  {
   "cell_type": "markdown",
   "metadata": {},
   "source": [
    "### Step 0: Define the variables"
   ]
  },
  {
   "cell_type": "code",
   "execution_count": 2,
   "metadata": {},
   "outputs": [],
   "source": [
    "scaler = StandardScaler()\n",
    "model_path = 'models/saved/'\n",
    "model_name = 'dilated_cnn_rul_prediction_custom_v1.4'\n",
    "full_path = model_path + model_name + '.h5'\n",
    "window_size = 72  # In hours"
   ]
  },
  {
   "cell_type": "markdown",
   "metadata": {},
   "source": [
    "### Step 1: Load an exisitng model, or create a new one"
   ]
  },
  {
   "cell_type": "code",
   "execution_count": 3,
   "metadata": {},
   "outputs": [
    {
     "name": "stdout",
     "output_type": "stream",
     "text": [
      "Model: \"sequential\"\n",
      "_________________________________________________________________\n",
      " Layer (type)                Output Shape              Param #   \n",
      "=================================================================\n",
      " conv2d (Conv2D)             (None, 72, 3, 24)         240       \n",
      "                                                                 \n",
      " conv2d_1 (Conv2D)           (None, 72, 3, 24)         5208      \n",
      "                                                                 \n",
      " flatten (Flatten)           (None, 5184)              0         \n",
      "                                                                 \n",
      " dense (Dense)               (None, 1000)              5185000   \n",
      "                                                                 \n",
      " dense_1 (Dense)             (None, 100)               100100    \n",
      "                                                                 \n",
      " dense_2 (Dense)             (None, 1)                 101       \n",
      "                                                                 \n",
      "=================================================================\n",
      "Total params: 5,290,649\n",
      "Trainable params: 5,290,649\n",
      "Non-trainable params: 0\n",
      "_________________________________________________________________\n",
      "New model created\n"
     ]
    }
   ],
   "source": [
    "# Either load the model\n",
    "if os.path.exists(full_path):\n",
    "    untrained_model = False\n",
    "# Or create a new model\n",
    "else:\n",
    "    model = tf.keras.models.Sequential()\n",
    "\n",
    "    # The convolutional filter layers\n",
    "    model.add(tf.keras.layers.Conv2D(filters=24, kernel_size=3, activation='relu', input_shape=(window_size, 3, 1), padding='same'))\n",
    "    model.add(tf.keras.layers.Conv2D(filters=24, kernel_size=3, activation='relu', dilation_rate=1, padding='same'))\n",
    "    model.add(tf.keras.layers.Conv2D(filters=24, kernel_size=3, activation='relu', dilation_rate=3, padding='same'))\n",
    "    # model.add(tf.keras.layers.Conv2D(filters=24, kernel_size=3, activation='relu', dilation_rate=9, padding='same'))\n",
    "    # model.add(tf.keras.layers.Conv2D(filters=24, kernel_size=3, activation='relu', dilation_rate=27, padding='same'))\n",
    "    \n",
    "    # 1 dimentional channel compressor\n",
    "    model.add(tf.keras.layers.Flatten())\n",
    "\n",
    "    # Fully connected layers\n",
    "    model.add(tf.keras.layers.Dense(units=1000, activation='relu'))\n",
    "    model.add(tf.keras.layers.Dense(units=100))\n",
    "    model.add(tf.keras.layers.Dense(units=1))\n",
    "\n",
    "    model.compile(optimizer='sgd', loss=tf.keras.losses.MeanSquaredError(), metrics=['accuracy'])\n",
    "    untrained_model = True\n",
    "\n",
    "model.summary()\n",
    "print('New model created' if untrained_model else 'Existing model loaded')"
   ]
  },
  {
   "cell_type": "markdown",
   "metadata": {},
   "source": [
    "### Step 2: Load the dataset used for training or inferencing"
   ]
  },
  {
   "cell_type": "markdown",
   "metadata": {},
   "source": [
    "#### Step 2.1: Below the functions for processing the dataset"
   ]
  },
  {
   "cell_type": "code",
   "execution_count": 4,
   "metadata": {},
   "outputs": [],
   "source": [
    "def process_data(data, feature_col, target_col, split_ratio=0.8):\n",
    "    (X, y) = window_data(data, window_size, feature_col, target_col)\n",
    "    \n",
    "    X = scaler.fit_transform(X)\n",
    "    y = scaler.fit_transform(y)\n",
    "\n",
    "    split_index = int((data.shape[0] - window_size - 1) * split_ratio)\n",
    "\n",
    "    X_train = X[:split_index]\n",
    "    X_test = X[split_index:]\n",
    "    X_train = X_train.reshape((X_train.shape[0], X_train.shape[1], 1))\n",
    "    X_test = X_test.reshape((X_test.shape[0], X_test.shape[1], 1))\n",
    "\n",
    "    y_train = y[:split_index]\n",
    "    y_test = y[split_index:]\n",
    "    y_train = y_train.reshape((y_train.shape[0], y_train.shape[1], 1))\n",
    "    y_test = y_test.reshape((y_test.shape[0], y_test.shape[1], 1))\n",
    "\n",
    "    return X_train, y_train, X_test, y_test\n",
    "\n",
    "\n",
    "def window_data(df, window, feature_col_number, target_col_number):\n",
    "    X, y = [], []\n",
    "    for i in range(len(df) - window - 1):\n",
    "        features = df.iloc[i : (i + window), feature_col_number].values\n",
    "        target = df.iloc[(i + window), target_col_number]\n",
    "        X.append(features)\n",
    "        y.append(target)\n",
    "    return np.array(X), np.array(y).astype(np.float64).reshape(-1, 1)"
   ]
  },
  {
   "cell_type": "markdown",
   "metadata": {},
   "source": [
    "#### Step 2.2: Now load the dataset"
   ]
  },
  {
   "cell_type": "code",
   "execution_count": 16,
   "metadata": {},
   "outputs": [
    {
     "name": "stdout",
     "output_type": "stream",
     "text": [
      "(0, 72, 3, 1) (2120, 72, 3, 1)\n"
     ]
    }
   ],
   "source": [
    "def get_data(path, features, split_ratio=0.8, split_data=True):\n",
    "    if platform == 'linux':\n",
    "        path = path.replace('C:/Users/', '/mnt/c/Users/')\n",
    "    dataset = pd.read_csv(path)\n",
    "    data = dataset[features]\n",
    "\n",
    "    if not split_data:\n",
    "        split_ratio = 0\n",
    "\n",
    "    (_, y) = window_data(data, window_size, 0, 0)\n",
    "    split = int((data.shape[0] - window_size - 1) * split_ratio)\n",
    "    y_train = y[:split]\n",
    "    y_test = y[split:]\n",
    "\n",
    "    X_train_a, _, X_test_a, _ = process_data(data, 1, 0, split_ratio=split_ratio)\n",
    "    X_train_b, _, X_test_b, _ = process_data(data, 2, 0, split_ratio=split_ratio)\n",
    "    X_train_c, _, X_test_c, _ = process_data(data, 3, 0, split_ratio=split_ratio)\n",
    "\n",
    "    X_train_data = np.concatenate((X_train_a, X_train_b, X_train_c), axis=2)\n",
    "    X_test_data = np.concatenate((X_test_a, X_test_b, X_test_c), axis=2)\n",
    "\n",
    "    # Reshape the 3 dimensional array into a 4 dimensional array\n",
    "    X_train_data = X_train_data.reshape((X_train_data.shape[0], X_train_data.shape[1], X_train_data.shape[2], 1))\n",
    "    X_test_data = X_test_data.reshape((X_test_data.shape[0], X_test_data.shape[1], X_test_data.shape[2], 1))\n",
    "\n",
    "    return X_train_data, y_train, X_test_data, y_test\n",
    "\n",
    "\n",
    "data_base_path = 'C:/Users/evert/School/hanzehogeschool-software-engineering/Jaar4/Afstuderen/Data/Battery-CVT-data/'\n",
    "\n",
    "ship_alpha_path = os.path.join(data_base_path, 'alpha/alpha-electrical-battery-all-sensors.csv')\n",
    "ship_beta_path = os.path.join(data_base_path, 'beta/beta-electrical-battery-all-sensors.csv')\n",
    "ship_gamma_path = os.path.join(data_base_path, 'gamma/gamma-electrical-battery-all-sensors.csv')\n",
    "\n",
    "path_to_dataset = ship_alpha_path\n",
    "features = ['capacity','electrical.batteries.0.current.last','electrical.batteries.0.voltage.last','electrical.batteries.0.temperature.last']\n",
    "\n",
    "# path_to_dataset = 'C:/Users/evert/School/hanzehogeschool-software-engineering/Jaar4/Afstuderen/Repositories/mm-development-environment/data/nasa-dataset/B0005.csv'\n",
    "# features = ['capacity', 'voltage_measured', 'current_measured', 'temperature_measured']\n",
    "\n",
    "train_test_split_ratio = 0.0\n",
    "train_X, train_y, test_X, test_y = get_data(path_to_dataset, features, train_test_split_ratio, split_data=untrained_model)\n",
    "\n",
    "print(train_X.shape, test_X.shape)"
   ]
  },
  {
   "cell_type": "markdown",
   "metadata": {},
   "source": [
    "### Step 3: Train the model on the dataset"
   ]
  },
  {
   "cell_type": "code",
   "execution_count": 6,
   "metadata": {},
   "outputs": [
    {
     "name": "stdout",
     "output_type": "stream",
     "text": [
      "Epoch 1/10\n",
      "1256/1256 [==============================] - 23s 18ms/step - loss: 0.0192 - accuracy: 0.0000e+00\n",
      "Epoch 2/10\n",
      "1256/1256 [==============================] - 23s 18ms/step - loss: 0.0114 - accuracy: 0.0000e+00\n",
      "Epoch 3/10\n",
      "1256/1256 [==============================] - 22s 17ms/step - loss: 0.0103 - accuracy: 0.0000e+00\n",
      "Epoch 4/10\n",
      "1256/1256 [==============================] - 21s 17ms/step - loss: 0.0096 - accuracy: 0.0000e+00\n",
      "Epoch 5/10\n",
      "1256/1256 [==============================] - 22s 18ms/step - loss: 0.0089 - accuracy: 0.0000e+00\n",
      "Epoch 6/10\n",
      "1256/1256 [==============================] - 22s 17ms/step - loss: 0.0084 - accuracy: 0.0000e+00\n",
      "Epoch 7/10\n",
      "1256/1256 [==============================] - 22s 18ms/step - loss: 0.0077 - accuracy: 0.0000e+00\n",
      "Epoch 8/10\n",
      "1256/1256 [==============================] - 22s 17ms/step - loss: 0.0073 - accuracy: 0.0000e+00\n",
      "Epoch 9/10\n",
      "1256/1256 [==============================] - 22s 18ms/step - loss: 0.0066 - accuracy: 0.0000e+00\n",
      "Epoch 10/10\n",
      "1256/1256 [==============================] - 22s 18ms/step - loss: 0.0062 - accuracy: 0.0000e+00\n"
     ]
    }
   ],
   "source": [
    "history = model.fit(train_X, train_y, epochs=10)\n",
    "model.save(full_path)"
   ]
  },
  {
   "cell_type": "markdown",
   "metadata": {},
   "source": [
    "#### *Optional: Show the training loss*"
   ]
  },
  {
   "cell_type": "code",
   "execution_count": 7,
   "metadata": {},
   "outputs": [
    {
     "data": {
      "image/png": "[encoded data removed]",
      "text/plain": [
       "<Figure size 640x480 with 1 Axes>"
      ]
     },
     "metadata": {},
     "output_type": "display_data"
    }
   ],
   "source": [
    "plt.figure()\n",
    "plt.plot(history.history[\"loss\"], color='blue', label='Loss')\n",
    "plt.legend()\n",
    "plt.show()"
   ]
  },
  {
   "cell_type": "markdown",
   "metadata": {},
   "source": [
    "### Step 4: Make a prediction"
   ]
  },
  {
   "cell_type": "code",
   "execution_count": 17,
   "metadata": {},
   "outputs": [
    {
     "name": "stdout",
     "output_type": "stream",
     "text": [
      "67/67 [==============================] - 0s 5ms/step\n",
      "(2120, 1)\n",
      "(2120, 1)\n"
     ]
    }
   ],
   "source": [
    "predicted_data = model.predict(test_X)\n",
    "real_data = test_y\n",
    "\n",
    "print(predicted_data.shape)\n",
    "print(real_data.shape)"
   ]
  },
  {
   "cell_type": "markdown",
   "metadata": {},
   "source": [
    "### Step 5: Graph the prediction result"
   ]
  },
  {
   "cell_type": "code",
   "execution_count": 19,
   "metadata": {},
   "outputs": [
    {
     "data": {
      "image/png": "[encoded data removed]",
      "text/plain": [
       "<Figure size 640x480 with 1 Axes>"
      ]
     },
     "metadata": {},
     "output_type": "display_data"
    }
   ],
   "source": [
    "X = np.arange(predicted_data.shape[0])\n",
    "y = predicted_data.flatten()\n",
    "\n",
    "poly_fit = np.polyfit(X, y, 1)\n",
    "trendline = np.poly1d(poly_fit)\n",
    "\n",
    "plt.figure()\n",
    "plt.plot(X, real_data, color='red', label='Real')\n",
    "plt.plot(X, y, color='blue', label='Predicted')\n",
    "plt.plot(X, trendline(X), color='orange', linestyle='--', label='Trend')\n",
    "plt.xlabel('Time in days')\n",
    "plt.ylabel('Max capacity')\n",
    "\n",
    "plt.grid()\n",
    "plt.legend()\n",
    "plt.show()"
   ]
  },
  {
   "cell_type": "code",
   "execution_count": null,
   "metadata": {},
   "outputs": [],
   "source": []
  }
 ],
 "metadata": {
  "kernelspec": {
   "display_name": "Python 3",
   "language": "python",
   "name": "python3"
  },
  "language_info": {
   "codemirror_mode": {
    "name": "ipython",
    "version": 3
   },
   "file_extension": ".py",
   "mimetype": "text/x-python",
   "name": "python",
   "nbconvert_exporter": "python",
   "pygments_lexer": "ipython3",
   "version": "3.11.3"
  },
  "orig_nbformat": 4
 },
 "nbformat": 4,
 "nbformat_minor": 2
}
